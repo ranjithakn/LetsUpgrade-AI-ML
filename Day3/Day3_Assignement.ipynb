{
 "cells": [
  {
   "cell_type": "markdown",
   "metadata": {},
   "source": [
    "# Write a program to subtract two complex numbers in Python.\n"
   ]
  },
  {
   "cell_type": "code",
   "execution_count": 7,
   "metadata": {},
   "outputs": [
    {
     "name": "stdout",
     "output_type": "stream",
     "text": [
      "enter first complex number\n",
      "None3+4j\n",
      "first number is= (3+4j)\n",
      "enter second complex number\n",
      "None5+2j\n",
      "the second number is= (5+2j)\n",
      "the subtraction of a and b is (-2+2j)\n"
     ]
    }
   ],
   "source": [
    "a= complex(input(print(\"enter first complex number\")))\n",
    "print(\"first number is=\",a)\n",
    "b= complex(input(print(\"enter second complex number\")))\n",
    "print(\"the second number is=\",b)\n",
    "c= a-b\n",
    "print(\"the subtraction of a and b is\",c)\n"
   ]
  },
  {
   "cell_type": "markdown",
   "metadata": {},
   "source": [
    "# Write a program to find the fourth root of a number."
   ]
  },
  {
   "cell_type": "code",
   "execution_count": 12,
   "metadata": {},
   "outputs": [
    {
     "name": "stdout",
     "output_type": "stream",
     "text": [
      "enter the number256\n",
      "fourth root of a number is  4.0\n"
     ]
    }
   ],
   "source": [
    "a=float(input(\"enter the number\"))\n",
    "b=a**0.25\n",
    "print(\"fourth root of a number is \",b)"
   ]
  },
  {
   "cell_type": "markdown",
   "metadata": {},
   "source": [
    "# Write a program to swap two numbers in Python with the help of a temporary variable."
   ]
  },
  {
   "cell_type": "code",
   "execution_count": 15,
   "metadata": {},
   "outputs": [
    {
     "name": "stdout",
     "output_type": "stream",
     "text": [
      "enter first number10\n",
      "enter second number20\n",
      "befor swapping a= 10 and b=  20\n",
      "after swapping a= 20 and b=  10\n"
     ]
    }
   ],
   "source": [
    "a=int(input(\"enter first number\"))\n",
    "b=int(input(\"enter second number\"))\n",
    "print(\"befor swapping a=\",a,\"and b= \",b)\n",
    "temp=a\n",
    "a=b\n",
    "b=temp\n",
    "print(\"after swapping a=\",a,\"and b= \",b)"
   ]
  },
  {
   "cell_type": "markdown",
   "metadata": {},
   "source": [
    "# Write a program to swap two numbers in Python without using a temporary variable."
   ]
  },
  {
   "cell_type": "code",
   "execution_count": 17,
   "metadata": {},
   "outputs": [
    {
     "name": "stdout",
     "output_type": "stream",
     "text": [
      "enter first number35\n",
      "enter second number56\n",
      "befor swapping a= 35 and b=  56\n",
      "after swapping a= 56 and b=  35\n"
     ]
    }
   ],
   "source": [
    "a=int(input(\"enter first number\"))\n",
    "b=int(input(\"enter second number\"))\n",
    "print(\"befor swapping a=\",a,\"and b= \",b)\n",
    "a=a+b\n",
    "b=a-b\n",
    "a=a-b\n",
    "print(\"after swapping a=\",a,\"and b= \",b)"
   ]
  },
  {
   "cell_type": "markdown",
   "metadata": {},
   "source": [
    "# Write a program to convert fahrenheit to kelvin and celsius both."
   ]
  },
  {
   "cell_type": "raw",
   "metadata": {},
   "source": [
    "The temperature conversion from Fahrenheit ( F ) to Kelvin ( K ) is given by the formula :\n",
    "\n",
    "K = 273.5 + ((F - 32.0) * (5.0/9.0))"
   ]
  },
  {
   "cell_type": "raw",
   "metadata": {},
   "source": [
    "Formula used: c = (5/9) * (f - 32)"
   ]
  },
  {
   "cell_type": "code",
   "execution_count": 19,
   "metadata": {},
   "outputs": [
    {
     "name": "stdout",
     "output_type": "stream",
     "text": [
      "enter the temperture in Fahrenheit100\n",
      "temperature in Kelvin= 311.27777777777777 temperatutre i Celsius is= 37.77777777777778\n"
     ]
    }
   ],
   "source": [
    "temp= float(input(\"enter the temperture in Fahrenheit\"))\n",
    "K=273.5+((temp-32) * (5/9))\n",
    "C=(5/9) * (temp-32)\n",
    "print(\"temperature in Kelvin=\",K,\"temperatutre i Celsius is=\",C)"
   ]
  },
  {
   "cell_type": "markdown",
   "metadata": {},
   "source": [
    "# Write a program to demonstrate all the available data types in Python. Hint: Use type() function. "
   ]
  },
  {
   "cell_type": "code",
   "execution_count": 29,
   "metadata": {},
   "outputs": [
    {
     "name": "stdout",
     "output_type": "stream",
     "text": [
      "<class 'int'>\n",
      "<class 'float'>\n",
      "<class 'bool'>\n",
      "<class 'complex'>\n",
      "<class 'list'>\n",
      "<class 'tuple'>\n",
      "<class 'dict'>\n",
      "<class 'str'>\n"
     ]
    }
   ],
   "source": [
    "a=10\n",
    "print(type(a))\n",
    "b=10.999\n",
    "print(type(b))\n",
    "c=True\n",
    "print(type(c))\n",
    "d=3+4j\n",
    "print(type(d))\n",
    "d=[1,2,3]\n",
    "print(type(d))\n",
    "e=(1,2,3)\n",
    "print(type(e))\n",
    "f={a:1,b:2}\n",
    "print(type(f))\n",
    "h=\"HI\"\n",
    "print(type(h))\n"
   ]
  },
  {
   "cell_type": "markdown",
   "metadata": {},
   "source": [
    "#  Create a Markdown cell in jupyter and list the steps discussed in the session by Dr. DarshanIngle sir to create Github profile and upload Githubs Assignment link."
   ]
  },
  {
   "cell_type": "raw",
   "metadata": {},
   "source": [
    "Create a Github public repo and name it LetsUpgrade AI/ML \n",
    "Upload the files/solution in the repo in day wise manner.  \n",
    "Copy the URL of the Folder of that day and paste in the Assignment Submission Form (Google Form) w\n",
    "Make sure you are filling correct details in the Assignment Submission Form. "
   ]
  }
 ],
 "metadata": {
  "kernelspec": {
   "display_name": "Python 3",
   "language": "python",
   "name": "python3"
  },
  "language_info": {
   "codemirror_mode": {
    "name": "ipython",
    "version": 3
   },
   "file_extension": ".py",
   "mimetype": "text/x-python",
   "name": "python",
   "nbconvert_exporter": "python",
   "pygments_lexer": "ipython3",
   "version": "3.7.4"
  }
 },
 "nbformat": 4,
 "nbformat_minor": 2
}
