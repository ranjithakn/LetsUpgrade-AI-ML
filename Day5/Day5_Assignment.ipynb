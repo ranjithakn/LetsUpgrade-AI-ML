{
 "cells": [
  {
   "cell_type": "markdown",
   "metadata": {},
   "source": [
    "# Write a Python program to find the first 20 non-even prime natural numbers."
   ]
  },
  {
   "cell_type": "code",
   "execution_count": 1,
   "metadata": {},
   "outputs": [
    {
     "name": "stdout",
     "output_type": "stream",
     "text": [
      "first 20 non even  Prime numbers are:\n",
      "3\n",
      "5\n",
      "7\n",
      "11\n",
      "13\n",
      "17\n",
      "19\n",
      "23\n",
      "29\n",
      "31\n",
      "37\n",
      "41\n",
      "43\n",
      "47\n",
      "53\n",
      "59\n",
      "61\n",
      "67\n",
      "71\n",
      "73\n"
     ]
    }
   ],
   "source": [
    "low = 0\n",
    "high = 100\n",
    "count=0\n",
    "print(\"first 20 non even  Prime numbers are:\")\n",
    "\n",
    "for num in range(low, high + 1):\n",
    "   if num > 2:\n",
    "       for i in range(2, num):\n",
    "           if (num % i) == 0:\n",
    "               break\n",
    "       else:\n",
    "           if count < 20:\n",
    "                count=count+1\n",
    "                print(num)"
   ]
  },
  {
   "cell_type": "markdown",
   "metadata": {},
   "source": [
    "# Write a Python program to implement 15 functions of string."
   ]
  },
  {
   "cell_type": "code",
   "execution_count": 5,
   "metadata": {},
   "outputs": [
    {
     "name": "stdout",
     "output_type": "stream",
     "text": [
      "15 functions of string are\n",
      "String length of s1 is 16\n",
      "is s1 is alphanumeric False\n",
      "lowercase of s1 is ranjitha aravind\n",
      "uppercase of s2 is ARJUN\n",
      "Ranjitha Aravind\n",
      "False\n",
      "False\n",
      "False\n",
      "A111r111j111u111n\n",
      "aRJUN\n",
      "Arjun\n",
      "0\n",
      "15\n",
      "True\n",
      "True\n"
     ]
    }
   ],
   "source": [
    "print(\"15 functions of string are\")\n",
    "s1=\"Ranjitha Aravind\"\n",
    "s2=\"Arjun\"\n",
    "s3=\"111\"\n",
    "print(\"String length of s1 is\",len(s1))\n",
    "print(\"is s1 is alphanumeric\",s1.isnumeric())\n",
    "print(\"lowercase of s1 is\",s1.lower())\n",
    "print(\"uppercase of s2 is\",s2.upper())\n",
    "print(s1.replace('e','u'))\n",
    "print(s2.islower())\n",
    "print(s2.isdigit())\n",
    "print(s2.isspace())\n",
    "print(s3.join(s2))\n",
    "print(s2.swapcase())\n",
    "print(s2.capitalize())\n",
    "print(s1.count('e'))\n",
    "print(s1.find('d'))\n",
    "print(s3.isalnum())\n",
    "print(s3.isdigit())"
   ]
  },
  {
   "cell_type": "markdown",
   "metadata": {},
   "source": [
    "# Write a Python program to check if the given string is a Palindrome or Anagram or None of them.Display the message accordingly to the user"
   ]
  },
  {
   "cell_type": "code",
   "execution_count": 9,
   "metadata": {},
   "outputs": [
    {
     "name": "stdout",
     "output_type": "stream",
     "text": [
      "enter string1silent\n",
      "enter string2listen\n",
      "The strings are anagrams.\n"
     ]
    }
   ],
   "source": [
    "s1=input(\"enter string1\")\n",
    "s2=input(\"enter string2\")\n",
    "#s1 = 'silent'\n",
    "#s2='listen'\n",
    "rev = reversed(s1)\n",
    "rev1=reversed(s2)\n",
    "if list(s1) == list(rev):\n",
    "   print(\"The string1 is a palindrome.\")\n",
    "elif list(s2) == list(rev1):\n",
    "   print(\"The string2 is a palindrome.\")\n",
    "elif (sorted(s1)== sorted(s2)): \n",
    "        print(\"The strings are anagrams.\")  \n",
    "else: \n",
    "        print(\"The strings aren't palindrome or anagrams.\")"
   ]
  },
  {
   "cell_type": "markdown",
   "metadata": {},
   "source": [
    "# Write a Python's user defined function that removes all the additional characters from the stringand converts it finally to lower case using built-in lower(). eg: If the string is \"Dr. Darshan Ingle@AI-ML Trainer\", then the output be \"drdarshaningleaimltrainer\""
   ]
  },
  {
   "cell_type": "code",
   "execution_count": 12,
   "metadata": {},
   "outputs": [
    {
     "name": "stdout",
     "output_type": "stream",
     "text": [
      "Original String : Mrs Ranjitha Aravind @gmail.com\n",
      "Resultant list is : MrsRanjithaAravindgmailcom\n",
      "FINAL STRING IS= mrsranjithaaravindgmailcom\n"
     ]
    }
   ],
   "source": [
    "def conversion(s1):\n",
    "    w = [';', ':', '!', \"*\",' ','@','.'] \n",
    "  \n",
    "    s1 = \"Mrs Ranjitha Aravind @gmail.com\"\n",
    "  \n",
    "    print (\"Original String : \" + s1) \n",
    "  \n",
    "\n",
    "    for i in w : \n",
    "            s1 = s1.replace(i,'') \n",
    "\n",
    "    print (\"Resultant list is : \" + s1)\n",
    "    print(\"FINAL STRING IS=\",s1.lower())\n",
    "conversion(s1)"
   ]
  },
  {
   "cell_type": "code",
   "execution_count": null,
   "metadata": {},
   "outputs": [],
   "source": []
  },
  {
   "cell_type": "code",
   "execution_count": null,
   "metadata": {},
   "outputs": [],
   "source": []
  },
  {
   "cell_type": "code",
   "execution_count": null,
   "metadata": {},
   "outputs": [],
   "source": []
  }
 ],
 "metadata": {
  "kernelspec": {
   "display_name": "Python 3",
   "language": "python",
   "name": "python3"
  },
  "language_info": {
   "codemirror_mode": {
    "name": "ipython",
    "version": 3
   },
   "file_extension": ".py",
   "mimetype": "text/x-python",
   "name": "python",
   "nbconvert_exporter": "python",
   "pygments_lexer": "ipython3",
   "version": "3.7.4"
  }
 },
 "nbformat": 4,
 "nbformat_minor": 2
}
